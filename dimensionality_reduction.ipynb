{
 "cells": [
  {
   "cell_type": "code",
   "execution_count": null,
   "id": "003ca6a0",
   "metadata": {},
   "outputs": [],
   "source": []
  },
  {
   "cell_type": "code",
   "execution_count": 1,
   "id": "f5352f1d",
   "metadata": {},
   "outputs": [],
   "source": [
    "data_matrix <- readRDS(\"final_matrices/all_data.rds\")"
   ]
  },
  {
   "cell_type": "code",
   "execution_count": 3,
   "id": "9fd46fd4",
   "metadata": {},
   "outputs": [
    {
     "data": {
      "text/html": [
       "<style>\n",
       ".list-inline {list-style: none; margin:0; padding: 0}\n",
       ".list-inline>li {display: inline-block}\n",
       ".list-inline>li:not(:last-child)::after {content: \"\\00b7\"; padding: 0 .5ex}\n",
       "</style>\n",
       "<ol class=list-inline><li>12201</li><li>457184</li></ol>\n"
      ],
      "text/latex": [
       "\\begin{enumerate*}\n",
       "\\item 12201\n",
       "\\item 457184\n",
       "\\end{enumerate*}\n"
      ],
      "text/markdown": [
       "1. 12201\n",
       "2. 457184\n",
       "\n",
       "\n"
      ],
      "text/plain": [
       "[1]  12201 457184"
      ]
     },
     "metadata": {},
     "output_type": "display_data"
    }
   ],
   "source": [
    "dim(data_matrix)"
   ]
  },
  {
   "cell_type": "code",
   "execution_count": 4,
   "id": "3c4a8671",
   "metadata": {},
   "outputs": [
    {
     "name": "stderr",
     "output_type": "stream",
     "text": [
      "Warning message in asMethod(object):\n",
      "“sparse->dense coercion: allocating vector of size 41.6 GiB”\n"
     ]
    }
   ],
   "source": [
    "data_matrix_scaled <- scale(data_matrix)"
   ]
  },
  {
   "cell_type": "code",
   "execution_count": null,
   "id": "d6c2356b",
   "metadata": {},
   "outputs": [],
   "source": [
    "\n",
    "pca_result <- prcomp(data_matrix_scaled, center = TRUE, scale. = TRUE)\n"
   ]
  },
  {
   "cell_type": "code",
   "execution_count": null,
   "id": "ebba0127",
   "metadata": {},
   "outputs": [],
   "source": [
    "\n",
    "head(pca_result$x)\n"
   ]
  },
  {
   "cell_type": "code",
   "execution_count": null,
   "id": "089ca97a",
   "metadata": {},
   "outputs": [],
   "source": [
    "\n",
    "plot(pca_result$x[, 1], pca_result$x[, 2],\n",
    "     xlab = \"PC1\", ylab = \"PC2\",\n",
    "     main = \"PCA of Data\")\n"
   ]
  },
  {
   "cell_type": "code",
   "execution_count": null,
   "id": "bac79cad",
   "metadata": {},
   "outputs": [],
   "source": [
    "\n",
    "var_explained <- (pca_result$sdev)^2 / sum(pca_result$sdev^2)\n",
    "\n",
    "plot(var_explained, type = \"b\",\n",
    "     xlab = \"Principal Component\",\n",
    "     ylab = \"Proportion of Variance Explained\",\n",
    "     main = \"Scree Plot\")\n"
   ]
  }
 ],
 "metadata": {
  "kernelspec": {
   "display_name": "R",
   "language": "R",
   "name": "ir"
  },
  "language_info": {
   "codemirror_mode": "r",
   "file_extension": ".r",
   "mimetype": "text/x-r-source",
   "name": "R",
   "pygments_lexer": "r",
   "version": "4.2.2"
  }
 },
 "nbformat": 4,
 "nbformat_minor": 5
}
